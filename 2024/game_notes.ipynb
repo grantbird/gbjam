{
 "cells": [
  {
   "cell_type": "code",
   "execution_count": 45,
   "metadata": {},
   "outputs": [],
   "source": [
    "from PIL import Image\n",
    "import numpy as np\n",
    "import matplotlib.pyplot as plt\n",
    "import re"
   ]
  },
  {
   "cell_type": "code",
   "execution_count": 28,
   "metadata": {},
   "outputs": [],
   "source": [
    "img_array = np.array(Image.open('sprites/shrub.png'))"
   ]
  },
  {
   "cell_type": "code",
   "execution_count": 37,
   "metadata": {},
   "outputs": [],
   "source": [
    "COLORS = {1:[0, 0, 0, 255], 2:[85, 85, 85, 255], 3:[170, 170, 170, 255], 4:[255, 255, 255, 255]}"
   ]
  },
  {
   "cell_type": "code",
   "execution_count": 41,
   "metadata": {},
   "outputs": [],
   "source": [
    "def to_palette(file_path):\n",
    "    img_array = np.array(Image.open(file_path))\n",
    "    result = np.zeros(img_array.shape[:2])\n",
    "    for key in COLORS:\n",
    "        result += np.all(img_array == COLORS[key], axis=2) * key\n",
    "\n",
    "    return result.astype(int)"
   ]
  },
  {
   "cell_type": "code",
   "execution_count": 42,
   "metadata": {},
   "outputs": [
    {
     "data": {
      "image/png": "[encoded data removed]",
      "text/plain": [
       "<Figure size 640x480 with 1 Axes>"
      ]
     },
     "metadata": {},
     "output_type": "display_data"
    }
   ],
   "source": [
    "plt.imshow(to_palette(\"sprites/scarecrow.png\"))\n",
    "plt.show()"
   ]
  },
  {
   "cell_type": "code",
   "execution_count": 60,
   "metadata": {},
   "outputs": [
    {
     "data": {
      "text/plain": [
       "'const scarecrow [[0, 0, 0, 0, 0, 0, 1, 1, 1, 0, 0, 0, 0, 0, 0, 0], [0, 0, 0, 0, 0, 1, 2, 2, 2, 1, 0, 0, 0, 0, 0, 0], [0, 0, 0, 1, 1, 2, 2, 2, 2, 2, 1, 1, 0, 0, 0, 0], [1, 1, 1, 1, 1, 1, 1, 1, 1, 1, 1, 1, 1, 1, 1, 0], [0, 1, 3, 3, 1, 3, 3, 3, 3, 3, 1, 3, 3, 1, 0, 0], [0, 1, 3, 1, 1, 1, 3, 3, 3, 1, 1, 1, 3, 1, 0, 0], [0, 1, 3, 3, 3, 3, 3, 3, 3, 3, 3, 3, 3, 1, 0, 0], [0, 0, 1, 3, 1, 3, 1, 3, 1, 3, 1, 3, 1, 0, 0, 0], [0, 0, 0, 1, 1, 1, 1, 1, 1, 1, 1, 1, 0, 0, 0, 0], [1, 1, 1, 1, 1, 3, 2, 3, 2, 3, 1, 1, 1, 1, 1, 0], [1, 2, 3, 2, 3, 2, 3, 2, 3, 2, 3, 3, 3, 3, 1, 0], [1, 1, 1, 1, 1, 3, 2, 3, 2, 3, 1, 1, 1, 1, 1, 0], [0, 0, 0, 0, 1, 2, 3, 2, 3, 3, 1, 0, 0, 0, 0, 0], [0, 0, 0, 0, 1, 1, 1, 1, 1, 1, 1, 0, 0, 0, 0, 0], [0, 0, 0, 0, 0, 0, 1, 2, 1, 0, 0, 0, 0, 0, 0, 0], [0, 0, 0, 0, 0, 0, 1, 1, 1, 0, 0, 0, 0, 0, 0, 0]];'"
      ]
     },
     "execution_count": 60,
     "metadata": {},
     "output_type": "execute_result"
    }
   ],
   "source": [
    "def get_javascript(file_path):\n",
    "    matches = re.findall(\"([^/]+?).png\", file_path)\n",
    "    if matches:\n",
    "        name = matches[0]\n",
    "    else:\n",
    "        name = \"bitmap\"\n",
    "    arr = to_palette(file_path)\n",
    "    result = \"const \" + name + \" [\"\n",
    "\n",
    "    for row in arr:\n",
    "        result += \"[\"\n",
    "        for color in row:\n",
    "            result += str(color) + \", \"\n",
    "        result = result[:-2]\n",
    "        result += \"], \"\n",
    "    result = result[:-2]\n",
    "    result += \"];\"\n",
    "\n",
    "    return result\n",
    "\n",
    "get_javascript(\"sprites/scarecrow.png\")"
   ]
  }
 ],
 "metadata": {
  "kernelspec": {
   "display_name": "Python 3",
   "language": "python",
   "name": "python3"
  },
  "language_info": {
   "codemirror_mode": {
    "name": "ipython",
    "version": 3
   },
   "file_extension": ".py",
   "mimetype": "text/x-python",
   "name": "python",
   "nbconvert_exporter": "python",
   "pygments_lexer": "ipython3",
   "version": "3.11.0"
  }
 },
 "nbformat": 4,
 "nbformat_minor": 2
}
